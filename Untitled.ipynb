{
 "cells": [
  {
   "cell_type": "code",
   "execution_count": 19,
   "id": "3692785d-306f-4f43-b2c3-4cebf71e86a2",
   "metadata": {},
   "outputs": [
    {
     "name": "stdout",
     "output_type": "stream",
     "text": [
      "[0.0, -0.028, 0.166, 0.138, 0.11, 0.083, 0.055, 0.028, -0.055, -0.083, -0.11, -0.138, -0.166]\n"
     ]
    }
   ],
   "source": [
    "def SyncMagFieldFtAlpha(): \n",
    "    myAlphaIdx = [0.000, -0.002, 0.012, 0.010, 0.008, 0.006, 0.004, 0.002, -0.004, -0.006, -0.008, -0.010, -0.012]\n",
    "    myAlphaUnitIdx = [0.000, -0.028, 0.166, 0.138, 0.110, 0.083, 0.055, 0.028, -0.055, -0.083, -0.110, -0.138, -0.166]\n",
    "    print(myAlphaUnitIdx)\n",
    "\n",
    "SyncMagFieldFtAlpha()"
   ]
  },
  {
   "cell_type": "code",
   "execution_count": null,
   "id": "9b7bc8b0-f0fc-4c27-9881-f322af9453c3",
   "metadata": {},
   "outputs": [],
   "source": []
  }
 ],
 "metadata": {
  "kernelspec": {
   "display_name": "Python 3 (ipykernel)",
   "language": "python",
   "name": "python3"
  },
  "language_info": {
   "codemirror_mode": {
    "name": "ipython",
    "version": 3
   },
   "file_extension": ".py",
   "mimetype": "text/x-python",
   "name": "python",
   "nbconvert_exporter": "python",
   "pygments_lexer": "ipython3",
   "version": "3.11.5"
  }
 },
 "nbformat": 4,
 "nbformat_minor": 5
}
